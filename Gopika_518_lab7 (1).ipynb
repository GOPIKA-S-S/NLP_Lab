{
  "nbformat": 4,
  "nbformat_minor": 0,
  "metadata": {
    "colab": {
      "provenance": []
    },
    "kernelspec": {
      "name": "python3",
      "display_name": "Python 3"
    },
    "language_info": {
      "name": "python"
    }
  },
  "cells": [
    {
      "cell_type": "code",
      "execution_count": null,
      "metadata": {
        "id": "gmIRUfaHVZ3u"
      },
      "outputs": [],
      "source": [
        "from sklearn.feature_extraction.text import CountVectorizer\n",
        "from sklearn.metrics.pairwise import cosine_similarity\n",
        "import numpy as np\n",
        "\n",
        "# Example documents or paragraphs\n",
        "doc1 = \"The sun rises in the east and sets in the west, casting a warm glow over the landscape. Birds chirp as they soar through the clear blue skies, and a gentle breeze rustles the leaves on the trees.\"\n",
        "doc2 = \"As dawn breaks, the sun ascends over the horizon, illuminating the terrain with its golden rays. The melodious symphony of bird songs fills the air, and a tranquil zephyr dances through the branches, causing the foliage to sway rhythmically.\"\n",
        "\n",
        "# Function to calculate Cosine Similarity\n",
        "def calculate_cosine_similarity(doc1, doc2):\n",
        "    vectorizer = CountVectorizer().fit_transform([doc1, doc2])\n",
        "    vectors = vectorizer.toarray()\n",
        "    return cosine_similarity(vectors)[0, 1]\n",
        "\n",
        "# Function to calculate Jaccard Similarity\n",
        "def calculate_jaccard_similarity(doc1, doc2):\n",
        "    words_doc1 = set(doc1.split())\n",
        "    words_doc2 = set(doc2.split())\n",
        "    intersection = len(words_doc1.intersection(words_doc2))\n",
        "    union = len(words_doc1.union(words_doc2))\n",
        "    return intersection / union\n",
        "\n",
        "# Calculate Cosine Similarity\n",
        "cosine_sim = calculate_cosine_similarity(doc1, doc2)\n",
        "print(\"Cosine Similarity:\", cosine_sim)\n",
        "\n",
        "# Calculate Jaccard Similarity\n",
        "jaccard_sim = calculate_jaccard_similarity(doc1, doc2)\n",
        "print(\"Jaccard Similarity:\", jaccard_sim)\n"
      ]
    },
    {
      "cell_type": "code",
      "source": [
        "import pandas as pd\n",
        "import numpy as np\n",
        "import matplotlib.pyplot as plt\n",
        "import seaborn as sns\n"
      ],
      "metadata": {
        "id": "5DIpTfXoVo_k"
      },
      "execution_count": null,
      "outputs": []
    },
    {
      "cell_type": "code",
      "source": [
        "df=pd.read_csv(\"/content/IMDB Dataset.csv\")"
      ],
      "metadata": {
        "id": "EeizNGF2WFpP"
      },
      "execution_count": null,
      "outputs": []
    },
    {
      "cell_type": "code",
      "source": [
        "df.tail()"
      ],
      "metadata": {
        "id": "eJkNt-aLWIeb"
      },
      "execution_count": null,
      "outputs": []
    },
    {
      "cell_type": "code",
      "source": [
        "df.info()"
      ],
      "metadata": {
        "id": "Laj3NF2DWJoA"
      },
      "execution_count": null,
      "outputs": []
    },
    {
      "cell_type": "code",
      "source": [
        "df.shape"
      ],
      "metadata": {
        "id": "OnecKkk5WNmh"
      },
      "execution_count": null,
      "outputs": []
    },
    {
      "cell_type": "code",
      "source": [
        "df.columns"
      ],
      "metadata": {
        "id": "jd8j_t73WTZC"
      },
      "execution_count": null,
      "outputs": []
    },
    {
      "cell_type": "code",
      "source": [
        "import re\n",
        "from sklearn.model_selection import train_test_split\n",
        "from tensorflow.keras.preprocessing.text import Tokenizer\n",
        "from tensorflow.keras.preprocessing.sequence import pad_sequences\n",
        "\n",
        "\n",
        "# Preprocessing function\n",
        "def preprocess_text(text):\n",
        "    # Convert to lowercase\n",
        "    text = text.lower()\n",
        "    # Remove special characters and numbers\n",
        "    text = re.sub(r'[^a-zA-Z\\s]', '', text)\n",
        "    # Remove extra whitespaces\n",
        "    text = re.sub(r'\\s+', ' ', text).strip()\n",
        "    return text\n",
        "\n",
        "# Apply preprocessing to 'review' column\n",
        "df['review'] = df['review'].apply(preprocess_text)\n",
        "\n",
        "# Split into features and target\n",
        "X = df['review'].values\n",
        "y = df['sentiment'].values\n",
        "\n",
        "# Split the dataset into training, validation, and testing sets\n",
        "X_train, X_temp, y_train, y_temp = train_test_split(X, y, test_size=0.3, random_state=42)\n",
        "X_val, X_test, y_val, y_test = train_test_split(X_temp, y_temp, test_size=0.5, random_state=42)\n"
      ],
      "metadata": {
        "id": "pt-o67kSWW2-"
      },
      "execution_count": null,
      "outputs": []
    },
    {
      "cell_type": "code",
      "source": [
        "# Tokenization and padding\n",
        "max_words = 10000\n",
        "max_len = 100\n",
        "\n",
        "tokenizer = Tokenizer(num_words=max_words)\n",
        "tokenizer.fit_on_texts(X_train)\n",
        "\n",
        "X_train_seq = tokenizer.texts_to_sequences(X_train)\n",
        "X_val_seq = tokenizer.texts_to_sequences(X_val)\n",
        "X_test_seq = tokenizer.texts_to_sequences(X_test)\n",
        "\n",
        "X_train_pad = pad_sequences(X_train_seq, maxlen=max_len)\n",
        "X_val_pad = pad_sequences(X_val_seq, maxlen=max_len)\n",
        "X_test_pad = pad_sequences(X_test_seq, maxlen=max_len)\n",
        "\n",
        "# Check the shape of the data\n",
        "print(\"X_train shape:\", X_train_pad.shape)\n",
        "print(\"X_val shape:\", X_val_pad.shape)\n",
        "print(\"X_test shape:\", X_test_pad.shape)\n",
        "print(\"y_train shape:\", y_train.shape)\n",
        "print(\"y_val shape:\", y_val.shape)\n",
        "print(\"y_test shape:\", y_test.shape)"
      ],
      "metadata": {
        "id": "MzzPejUXWaqJ"
      },
      "execution_count": null,
      "outputs": []
    },
    {
      "cell_type": "code",
      "source": [
        "from sklearn.feature_extraction.text import TfidfVectorizer\n",
        "from sklearn.naive_bayes import MultinomialNB\n",
        "from sklearn.metrics import accuracy_score\n",
        "\n",
        "# Vectorize the text using TF-IDF\n",
        "vectorizer = TfidfVectorizer(max_features=10000)\n",
        "X_train_tfidf = vectorizer.fit_transform(X_train)\n",
        "X_val_tfidf = vectorizer.transform(X_val)\n",
        "X_test_tfidf = vectorizer.transform(X_test)\n",
        "\n",
        "# Train the Multinomial Naive Bayes classifier\n",
        "bayes_classifier = MultinomialNB()\n",
        "bayes_classifier.fit(X_train_tfidf, y_train)\n",
        "\n",
        "# Predictions on validation set\n",
        "y_pred_val = bayes_classifier.predict(X_val_tfidf)\n",
        "val_accuracy = accuracy_score(y_val, y_pred_val)\n",
        "print(\"Validation Accuracy (Bayesian):\", val_accuracy)\n",
        "\n",
        "# Predictions on test set\n",
        "y_pred_test = bayes_classifier.predict(X_test_tfidf)\n",
        "test_accuracy = accuracy_score(y_test, y_pred_test)\n",
        "print(\"Test Accuracy (Bayesian):\", test_accuracy)\n"
      ],
      "metadata": {
        "id": "7QyLAn7oWfXS"
      },
      "execution_count": null,
      "outputs": []
    },
    {
      "cell_type": "code",
      "source": [
        "from sklearn.preprocessing import LabelEncoder\n",
        "\n",
        "# Initialize LabelEncoder\n",
        "label_encoder = LabelEncoder()\n",
        "\n",
        "# Fit and transform labels\n",
        "y_train = label_encoder.fit_transform(y_train)\n",
        "y_val = label_encoder.transform(y_val)\n",
        "y_test = label_encoder.transform(y_test)\n",
        "\n",
        "# Convert target variable\n",
        "y_train = y_train.astype(np.float32)\n",
        "y_val = y_val.astype(np.float32)\n",
        "y_test = y_test.astype(np.float32)\n"
      ],
      "metadata": {
        "id": "Nwv5nNRfWgcF"
      },
      "execution_count": null,
      "outputs": []
    },
    {
      "cell_type": "code",
      "source": [
        "import tensorflow as tf\n",
        "from tensorflow.keras.models import Sequential\n",
        "from tensorflow.keras.layers import Embedding, SimpleRNN, Dense\n",
        "\n",
        "# Build the RNN model\n",
        "model_rnn = Sequential()\n",
        "model_rnn.add(Embedding(input_dim=max_words, output_dim=128, input_length=max_len))\n",
        "model_rnn.add(SimpleRNN(units=128, dropout=0.2))  # Adding dropout for regularization\n",
        "model_rnn.add(Dense(units=1, activation='sigmoid'))\n",
        "\n",
        "model_rnn.compile(optimizer='adam', loss='binary_crossentropy', metrics=['accuracy'])\n",
        "\n",
        "# Train the RNN model\n",
        "history_rnn = model_rnn.fit(X_train_pad, y_train, validation_data=(X_val_pad, y_val), epochs=5, batch_size=128)\n",
        "\n",
        "# Evaluate the RNN model\n",
        "val_loss_rnn, val_accuracy_rnn = model_rnn.evaluate(X_val_pad, y_val)\n",
        "print(\"Validation Accuracy (RNN):\", val_accuracy_rnn)\n",
        "\n",
        "test_loss_rnn, test_accuracy_rnn = model_rnn.evaluate(X_test_pad, y_test)\n",
        "print(\"Test Accuracy (RNN):\", test_accuracy_rnn)\n"
      ],
      "metadata": {
        "id": "60OKKFA9WjJs"
      },
      "execution_count": null,
      "outputs": []
    },
    {
      "cell_type": "code",
      "source": [
        "import tensorflow as tf\n",
        "from tensorflow.keras.models import Sequential\n",
        "from tensorflow.keras.layers import Embedding, LSTM, Dense\n",
        "\n",
        "# Build the LSTM model\n",
        "model_lstm = Sequential()\n",
        "model_lstm.add(Embedding(input_dim=max_words, output_dim=128, input_length=max_len))\n",
        "model_lstm.add(LSTM(units=128, dropout=0.2, recurrent_dropout=0.2))  # Adding dropout for regularization\n",
        "model_lstm.add(Dense(units=1, activation='sigmoid'))\n",
        "\n",
        "model_lstm.compile(optimizer='adam', loss='binary_crossentropy', metrics=['accuracy'])\n",
        "\n",
        "# Train the LSTM model\n",
        "history_lstm = model_lstm.fit(X_train_pad, y_train, validation_data=(X_val_pad, y_val), epochs=5, batch_size=128)\n",
        "\n",
        "# Evaluate the LSTM model\n",
        "val_loss_lstm, val_accuracy_lstm = model_lstm.evaluate(X_val_pad, y_val)\n",
        "print(\"Validation Accuracy (LSTM):\", val_accuracy_lstm)\n",
        "\n",
        "test_loss_lstm, test_accuracy_lstm = model_lstm.evaluate(X_test_pad, y_test)\n",
        "print(\"Test Accuracy (LSTM):\", test_accuracy_lstm)\n"
      ],
      "metadata": {
        "id": "vKlB6JnBWrCE"
      },
      "execution_count": null,
      "outputs": []
    }
  ]
}